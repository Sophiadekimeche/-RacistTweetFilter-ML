{
 "cells": [
  {
   "cell_type": "code",
   "execution_count": 9,
   "id": "1248ca49",
   "metadata": {
    "scrolled": true
   },
   "outputs": [],
   "source": [
    "#Necessary Imports\n",
    "\n",
    "import pandas as pd\n"
   ]
  },
  {
   "cell_type": "code",
   "execution_count": 10,
   "id": "062fe78a",
   "metadata": {},
   "outputs": [
    {
     "data": {
      "text/html": [
       "<div>\n",
       "<style scoped>\n",
       "    .dataframe tbody tr th:only-of-type {\n",
       "        vertical-align: middle;\n",
       "    }\n",
       "\n",
       "    .dataframe tbody tr th {\n",
       "        vertical-align: top;\n",
       "    }\n",
       "\n",
       "    .dataframe thead th {\n",
       "        text-align: right;\n",
       "    }\n",
       "</style>\n",
       "<table border=\"1\" class=\"dataframe\">\n",
       "  <thead>\n",
       "    <tr style=\"text-align: right;\">\n",
       "      <th></th>\n",
       "      <th>index</th>\n",
       "      <th>id</th>\n",
       "      <th>Text</th>\n",
       "      <th>Annotation</th>\n",
       "      <th>oh_label</th>\n",
       "    </tr>\n",
       "  </thead>\n",
       "  <tbody>\n",
       "    <tr>\n",
       "      <th>0</th>\n",
       "      <td>5.767493e+17</td>\n",
       "      <td>5.767493e+17</td>\n",
       "      <td>@AAlwuhaib1977 Muslim mob violence against Hin...</td>\n",
       "      <td>racism</td>\n",
       "      <td>1</td>\n",
       "    </tr>\n",
       "    <tr>\n",
       "      <th>1</th>\n",
       "      <td>5.408905e+17</td>\n",
       "      <td>5.408905e+17</td>\n",
       "      <td>@Te4m_NiGhtM4Re http://t.co/5Ih7MkDbQG</td>\n",
       "      <td>none</td>\n",
       "      <td>0</td>\n",
       "    </tr>\n",
       "    <tr>\n",
       "      <th>2</th>\n",
       "      <td>5.678433e+17</td>\n",
       "      <td>5.678433e+17</td>\n",
       "      <td>@jncatron @isra_jourisra @AMPalestine Islamoph...</td>\n",
       "      <td>racism</td>\n",
       "      <td>1</td>\n",
       "    </tr>\n",
       "    <tr>\n",
       "      <th>3</th>\n",
       "      <td>5.766462e+17</td>\n",
       "      <td>5.766462e+17</td>\n",
       "      <td>Finally I'm all caught up, and that sudden dea...</td>\n",
       "      <td>none</td>\n",
       "      <td>0</td>\n",
       "    </tr>\n",
       "    <tr>\n",
       "      <th>4</th>\n",
       "      <td>5.713492e+17</td>\n",
       "      <td>5.713492e+17</td>\n",
       "      <td>@carolinesinders @herecomesfran *hugs*</td>\n",
       "      <td>none</td>\n",
       "      <td>0</td>\n",
       "    </tr>\n",
       "    <tr>\n",
       "      <th>...</th>\n",
       "      <td>...</td>\n",
       "      <td>...</td>\n",
       "      <td>...</td>\n",
       "      <td>...</td>\n",
       "      <td>...</td>\n",
       "    </tr>\n",
       "    <tr>\n",
       "      <th>13466</th>\n",
       "      <td>5.755964e+17</td>\n",
       "      <td>5.755964e+17</td>\n",
       "      <td>#mkr NOOOOO!!! I wanted Kat and Andre to lose!!!</td>\n",
       "      <td>none</td>\n",
       "      <td>0</td>\n",
       "    </tr>\n",
       "    <tr>\n",
       "      <th>13467</th>\n",
       "      <td>5.580631e+17</td>\n",
       "      <td>5.580631e+17</td>\n",
       "      <td>RT @MumtazCeltik: @WhiteHouse @VP \\n\\n#Kobane ...</td>\n",
       "      <td>none</td>\n",
       "      <td>0</td>\n",
       "    </tr>\n",
       "    <tr>\n",
       "      <th>13468</th>\n",
       "      <td>5.755969e+17</td>\n",
       "      <td>5.755969e+17</td>\n",
       "      <td>Glad the proper competition is starting and ev...</td>\n",
       "      <td>none</td>\n",
       "      <td>0</td>\n",
       "    </tr>\n",
       "    <tr>\n",
       "      <th>13469</th>\n",
       "      <td>5.755990e+17</td>\n",
       "      <td>5.755990e+17</td>\n",
       "      <td>No worries Pete and Manu, take all the time of...</td>\n",
       "      <td>none</td>\n",
       "      <td>0</td>\n",
       "    </tr>\n",
       "    <tr>\n",
       "      <th>13470</th>\n",
       "      <td>5.755977e+17</td>\n",
       "      <td>5.755977e+17</td>\n",
       "      <td>@mykitchenrules #mkr please kick off that lady...</td>\n",
       "      <td>none</td>\n",
       "      <td>0</td>\n",
       "    </tr>\n",
       "  </tbody>\n",
       "</table>\n",
       "<p>13471 rows × 5 columns</p>\n",
       "</div>"
      ],
      "text/plain": [
       "              index            id  \\\n",
       "0      5.767493e+17  5.767493e+17   \n",
       "1      5.408905e+17  5.408905e+17   \n",
       "2      5.678433e+17  5.678433e+17   \n",
       "3      5.766462e+17  5.766462e+17   \n",
       "4      5.713492e+17  5.713492e+17   \n",
       "...             ...           ...   \n",
       "13466  5.755964e+17  5.755964e+17   \n",
       "13467  5.580631e+17  5.580631e+17   \n",
       "13468  5.755969e+17  5.755969e+17   \n",
       "13469  5.755990e+17  5.755990e+17   \n",
       "13470  5.755977e+17  5.755977e+17   \n",
       "\n",
       "                                                    Text Annotation  oh_label  \n",
       "0      @AAlwuhaib1977 Muslim mob violence against Hin...     racism         1  \n",
       "1                 @Te4m_NiGhtM4Re http://t.co/5Ih7MkDbQG       none         0  \n",
       "2      @jncatron @isra_jourisra @AMPalestine Islamoph...     racism         1  \n",
       "3      Finally I'm all caught up, and that sudden dea...       none         0  \n",
       "4                 @carolinesinders @herecomesfran *hugs*       none         0  \n",
       "...                                                  ...        ...       ...  \n",
       "13466   #mkr NOOOOO!!! I wanted Kat and Andre to lose!!!       none         0  \n",
       "13467  RT @MumtazCeltik: @WhiteHouse @VP \\n\\n#Kobane ...       none         0  \n",
       "13468  Glad the proper competition is starting and ev...       none         0  \n",
       "13469  No worries Pete and Manu, take all the time of...       none         0  \n",
       "13470  @mykitchenrules #mkr please kick off that lady...       none         0  \n",
       "\n",
       "[13471 rows x 5 columns]"
      ]
     },
     "execution_count": 10,
     "metadata": {},
     "output_type": "execute_result"
    }
   ],
   "source": [
    "file_path = r\"C:\\Users\\dekis\\OneDrive\\Desktop\\DATA SCIENCE\\FINAL PROJECT\\ds-final-project-main\\ds-final-project-main\\twitter_racism_parsed_dataset.csv\"\n",
    "\n",
    "# Load the dataset into a pandas DataFrame\n",
    "data = pd.read_csv(file_path)\n",
    "\n",
    "data"
   ]
  },
  {
   "cell_type": "code",
   "execution_count": 3,
   "id": "f089e1d7",
   "metadata": {
    "scrolled": true
   },
   "outputs": [
    {
     "name": "stdout",
     "output_type": "stream",
     "text": [
      "Dataset URL: https://huggingface.co/datasets/sakren/twitter_racism_dataset\n"
     ]
    }
   ],
   "source": [
    "\n",
    "#the link to the dataset\n",
    "print(\"Dataset URL: https://huggingface.co/datasets/sakren/twitter_racism_dataset\")\n"
   ]
  },
  {
   "cell_type": "code",
   "execution_count": 4,
   "id": "5192bef7",
   "metadata": {},
   "outputs": [
    {
     "name": "stdout",
     "output_type": "stream",
     "text": [
      "Dataset shape: (13471, 5)\n"
     ]
    }
   ],
   "source": [
    "# the shape of the dataset\n",
    "print(\"Dataset shape:\", data.shape)\n"
   ]
  },
  {
   "cell_type": "code",
   "execution_count": 5,
   "id": "8fb34a8a",
   "metadata": {},
   "outputs": [
    {
     "name": "stdout",
     "output_type": "stream",
     "text": [
      "First few rows of the dataset:\n",
      "          index            id  \\\n",
      "0  5.767493e+17  5.767493e+17   \n",
      "1  5.408905e+17  5.408905e+17   \n",
      "2  5.678433e+17  5.678433e+17   \n",
      "3  5.766462e+17  5.766462e+17   \n",
      "4  5.713492e+17  5.713492e+17   \n",
      "\n",
      "                                                Text Annotation  oh_label  \n",
      "0  @AAlwuhaib1977 Muslim mob violence against Hin...     racism         1  \n",
      "1             @Te4m_NiGhtM4Re http://t.co/5Ih7MkDbQG       none         0  \n",
      "2  @jncatron @isra_jourisra @AMPalestine Islamoph...     racism         1  \n",
      "3  Finally I'm all caught up, and that sudden dea...       none         0  \n",
      "4             @carolinesinders @herecomesfran *hugs*       none         0  \n"
     ]
    }
   ],
   "source": [
    "# head of the dataset \n",
    "print(\"First few rows of the dataset:\")\n",
    "print(data.head())"
   ]
  },
  {
   "cell_type": "code",
   "execution_count": 7,
   "id": "33929f5d",
   "metadata": {},
   "outputs": [
    {
     "name": "stdout",
     "output_type": "stream",
     "text": [
      "               index            id  \\\n",
      "count   1.347100e+04  1.347100e+04   \n",
      "unique           NaN           NaN   \n",
      "top              NaN           NaN   \n",
      "freq             NaN           NaN   \n",
      "mean    5.645450e+17  5.645450e+17   \n",
      "std     2.263979e+16  2.263979e+16   \n",
      "min     3.208178e+17  3.208178e+17   \n",
      "25%     5.637581e+17  5.637581e+17   \n",
      "50%     5.714068e+17  5.714068e+17   \n",
      "75%     5.755013e+17  5.755013e+17   \n",
      "max     5.922733e+17  5.922733e+17   \n",
      "\n",
      "                                                     Text Annotation  \\\n",
      "count                                               13471      13471   \n",
      "unique                                              13471          2   \n",
      "top     @AAlwuhaib1977 Muslim mob violence against Hin...       none   \n",
      "freq                                                    1      11501   \n",
      "mean                                                  NaN        NaN   \n",
      "std                                                   NaN        NaN   \n",
      "min                                                   NaN        NaN   \n",
      "25%                                                   NaN        NaN   \n",
      "50%                                                   NaN        NaN   \n",
      "75%                                                   NaN        NaN   \n",
      "max                                                   NaN        NaN   \n",
      "\n",
      "           oh_label  \n",
      "count   13471.00000  \n",
      "unique          NaN  \n",
      "top             NaN  \n",
      "freq            NaN  \n",
      "mean        0.14624  \n",
      "std         0.35336  \n",
      "min         0.00000  \n",
      "25%         0.00000  \n",
      "50%         0.00000  \n",
      "75%         0.00000  \n",
      "max         1.00000  \n"
     ]
    }
   ],
   "source": [
    "#summary stats\n",
    "\n",
    "print(data.describe(include='all'))"
   ]
  },
  {
   "cell_type": "code",
   "execution_count": 8,
   "id": "40c4940b",
   "metadata": {
    "scrolled": false
   },
   "outputs": [
    {
     "name": "stdout",
     "output_type": "stream",
     "text": [
      "Information about the dataset:\n",
      "<class 'pandas.core.frame.DataFrame'>\n",
      "RangeIndex: 13471 entries, 0 to 13470\n",
      "Data columns (total 5 columns):\n",
      " #   Column      Non-Null Count  Dtype  \n",
      "---  ------      --------------  -----  \n",
      " 0   index       13471 non-null  float64\n",
      " 1   id          13471 non-null  float64\n",
      " 2   Text        13471 non-null  object \n",
      " 3   Annotation  13471 non-null  object \n",
      " 4   oh_label    13471 non-null  int64  \n",
      "dtypes: float64(2), int64(1), object(2)\n",
      "memory usage: 526.3+ KB\n"
     ]
    }
   ],
   "source": [
    "\n",
    "# information about how the data is structured\n",
    "print(\"Information about the dataset:\")\n",
    "data.info()"
   ]
  },
  {
   "cell_type": "markdown",
   "id": "95e966f2",
   "metadata": {},
   "source": [
    "## Brief summary of the dataset:"
   ]
  },
  {
   "cell_type": "markdown",
   "id": "3872ef5a",
   "metadata": {},
   "source": [
    "The dataset is sourced from Hugging Face \"Twitter Racism Dataset,\" it contains 13,471 tweets, each annotated to indicate whether it includes racist content. Key features of the dataset include a unique tweet ID, the tweet text, and a binary label (oh_label), where '1' indicates racist content and '0' indicates none. This dataset is particularly suited to detect and analyze racist language on social media."
   ]
  }
 ],
 "metadata": {
  "kernelspec": {
   "display_name": "Python 3 (ipykernel)",
   "language": "python",
   "name": "python3"
  },
  "language_info": {
   "codemirror_mode": {
    "name": "ipython",
    "version": 3
   },
   "file_extension": ".py",
   "mimetype": "text/x-python",
   "name": "python",
   "nbconvert_exporter": "python",
   "pygments_lexer": "ipython3",
   "version": "3.11.5"
  }
 },
 "nbformat": 4,
 "nbformat_minor": 5
}
